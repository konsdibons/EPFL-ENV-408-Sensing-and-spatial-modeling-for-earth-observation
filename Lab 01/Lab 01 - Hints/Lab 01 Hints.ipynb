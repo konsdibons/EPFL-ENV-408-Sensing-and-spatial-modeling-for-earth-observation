{
 "cells": [
  {
   "cell_type": "markdown",
   "id": "1d7bc76a",
   "metadata": {},
   "source": [
    "# Lab 01 hints : numpy\n",
    "\n",
    "\n",
    "[Numpy cheat sheet](https://res.cloudinary.com/dyd911kmh/image/upload/v1676302459/Marketing/Blog/Numpy_Cheat_Sheet.pdf)"
   ]
  },
  {
   "cell_type": "code",
   "execution_count": 3,
   "id": "513c4515",
   "metadata": {},
   "outputs": [],
   "source": [
    "import numpy as np"
   ]
  },
  {
   "cell_type": "markdown",
   "id": "70ffa0c9",
   "metadata": {},
   "source": [
    "# Saving / Loading text file :"
   ]
  },
  {
   "cell_type": "code",
   "execution_count": null,
   "id": "e71d192a",
   "metadata": {},
   "outputs": [],
   "source": [
    "# Load a txt file :\n",
    "a = np.loadtxt('path_to_in_file.txt', delimiter=',')\n",
    "\n",
    "# The delimiter needs to be adapted to your txt file, usualy spaces, tab, comma or semicolon\n",
    "# other options such as skiping first rows, loading only certain columns, are available (see doc.)\n",
    "\n",
    "# Save a txt file :\n",
    "np.savetxt('path_to_out_file.txt', a, delimiter=',')"
   ]
  },
  {
   "cell_type": "markdown",
   "id": "82694856",
   "metadata": {},
   "source": [
    "# Access on 2D np arrays"
   ]
  },
  {
   "cell_type": "code",
   "execution_count": 4,
   "id": "b3400a5f",
   "metadata": {},
   "outputs": [
    {
     "name": "stdout",
     "output_type": "stream",
     "text": [
      "(2, 3)\n"
     ]
    }
   ],
   "source": [
    "a = np.array([[1,2,3], [4,5,6]])\n",
    "\n",
    "#Get array shape :\n",
    "print(a.shape)\n",
    "\n",
    "# Accessing an element at line i column j :\n",
    "i = 0\n",
    "j = 0\n",
    "\n",
    "x = a[i,j]\n",
    "\n",
    "#Extract line i : \n",
    "# : operator means all elements along the specified dimension\n",
    "i = 0\n",
    "l = a[i,:] #Extract elements of line i along all columns\n",
    "\n",
    "# Extract column i : \n",
    "c = a[:,i]\n",
    "\n",
    "#Iterate over all lines of a 2D array:\n",
    "for i in range(a.shape[0]):\n",
    "    li = a[i,:]\n",
    "    \n",
    "#Iterate over all columns of a 2D array:\n",
    "for j in range(a.shape[1]):\n",
    "    cj = a[i,:]\n",
    "    \n",
    "    "
   ]
  },
  {
   "cell_type": "markdown",
   "id": "22b9cc14",
   "metadata": {},
   "source": [
    "# Operations on 2D np arrrays"
   ]
  },
  {
   "cell_type": "markdown",
   "id": "e9b07ea0",
   "metadata": {},
   "source": [
    "### Element wise operation on arrays :\n",
    "Using an operator followed by a constant value will perform an elementwise operation,\n",
    "i.e. the operation will be applied independently to each element of the array"
   ]
  },
  {
   "cell_type": "code",
   "execution_count": 5,
   "id": "8ec9f0f5",
   "metadata": {},
   "outputs": [
    {
     "name": "stdout",
     "output_type": "stream",
     "text": [
      "[[ 6  7  8]\n",
      " [ 9 10 11]]\n"
     ]
    }
   ],
   "source": [
    "b = a + 5\n",
    "\n",
    "print(b)\n",
    "# This adds 5 to each element of the array. Same holds for many operators, +, -, *, /, //, %, **, ..."
   ]
  },
  {
   "cell_type": "markdown",
   "id": "3a72b73d",
   "metadata": {},
   "source": [
    "### Example : \n",
    "\n",
    "Estimating perspective coordinates from top left coordinates (both xy and uv are Nx2 np.array)\n",
    "   \n",
    "To estimate all x at once from u, one can extract u from uv (column 0), then apply the sequence of element wise operations to finally fill the x column (i.e. column 0 -> xy[:,0])\n"
   ]
  },
  {
   "cell_type": "code",
   "execution_count": null,
   "id": "728ecac4",
   "metadata": {},
   "outputs": [],
   "source": [
    "xy[:,0] = (uv[:,0] - (.5*(w-1) + cx))/c"
   ]
  },
  {
   "cell_type": "markdown",
   "id": "6def4dd2",
   "metadata": {},
   "source": [
    "### Array to array operations :\n",
    "\n",
    "Array of the same shape :\n",
    "Using an operator between two arrays will apply the operator element to element between the two arrays."
   ]
  },
  {
   "cell_type": "code",
   "execution_count": 32,
   "id": "918d6075",
   "metadata": {},
   "outputs": [
    {
     "name": "stdout",
     "output_type": "stream",
     "text": [
      "[[2. 3. 4.]\n",
      " [5. 6. 7.]]\n"
     ]
    }
   ],
   "source": [
    "c = np.ones((a.shape))\n",
    "\n",
    "d = a + c\n",
    "print(d)"
   ]
  },
  {
   "cell_type": "markdown",
   "id": "82ce3e5b",
   "metadata": {},
   "source": [
    "Array of broadcastable shape :\n",
    "Imagine having an array of two columns such as uv. You might want to apply one operation to all u's and another one to all v's. To do so, you can apply all operations at once by building an array of operations :"
   ]
  },
  {
   "cell_type": "code",
   "execution_count": 34,
   "id": "baabc2ee",
   "metadata": {},
   "outputs": [
    {
     "name": "stdout",
     "output_type": "stream",
     "text": [
      "(2, 3)\n",
      "[[0 1 2]\n",
      " [2 3 4]]\n",
      "[[0 0 0]\n",
      " [3 3 3]]\n"
     ]
    }
   ],
   "source": [
    "# Subtract 1 to all element of the first column of a and subtract 2 on the second column\n",
    "print(a_shape)\n",
    "\n",
    "e = a - np.array([[1],[2]])\n",
    "\n",
    "print(e)\n",
    "\n",
    "# Subtract 1 to the first line of the array, 2 to the second and 3 to the third \n",
    "f = a - np.array([[1, 2, 3]])\n",
    "\n",
    "print(f)"
   ]
  },
  {
   "cell_type": "markdown",
   "id": "fbe8be38",
   "metadata": {},
   "source": [
    "# Notes on scipy.optimize.fsolve"
   ]
  },
  {
   "cell_type": "markdown",
   "id": "9381c222",
   "metadata": {},
   "source": [
    "fsolve is a non linear solver that proves usefull when trying to solve non linear system of equations with an initial guess, such as undistortion equations.\n",
    "\n",
    "It can be called as follow :  \n",
    "sol = scipy.optimize.fsolve(undistort, x0, args=())  \n",
    "\n",
    "1. The system of equations you try to solve is implemented as a function, defined by **undistort**  \n",
    "2. The variables that fsolve tries to find is the first (and only the first) argument of the **undistort** function. This explains why you need to pack x,y variables into a vector that is provided to **undistort** as first argument.\n",
    "3. x0 is the initial guess that fsolve will use. Since you want to solve for a vector of arguments (x and y), you can build a vector with the raw (i.e. distorted) x and y value that will be used as initial guess.\n",
    "4. args are all other arguments that the function takes. In our case x distorted and y distorted (although you already provided them as initial guess, they are still needed as constants in the equation (1) and (2)), k1, k2, p1, p2\n",
    "\n",
    "In practice, the fsolve function will be called N times (N being your number of measurements), solving the system for one measurement at a time."
   ]
  },
  {
   "cell_type": "code",
   "execution_count": null,
   "id": "271b15b8",
   "metadata": {},
   "outputs": [],
   "source": []
  }
 ],
 "metadata": {
  "kernelspec": {
   "display_name": "Python 3 (ipykernel)",
   "language": "python",
   "name": "python3"
  },
  "language_info": {
   "codemirror_mode": {
    "name": "ipython",
    "version": 3
   },
   "file_extension": ".py",
   "mimetype": "text/x-python",
   "name": "python",
   "nbconvert_exporter": "python",
   "pygments_lexer": "ipython3",
   "version": "3.9.16"
  }
 },
 "nbformat": 4,
 "nbformat_minor": 5
}
